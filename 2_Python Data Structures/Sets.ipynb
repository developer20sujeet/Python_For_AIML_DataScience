{
 "cells": [
  {
   "cell_type": "markdown",
   "metadata": {},
   "source": [
    "<h3> Sets  overview </h3>\n",
    "\n",
    "Sets are collections that are **unordered**, **mutable**, and do **not allow duplicate** elements.\n",
    "\n",
    "They are useful for operations like set **unions, intersections, differences, and symmetrical** differences.\n"
   ]
  },
  {
   "cell_type": "markdown",
   "metadata": {},
   "source": [
    "<b> Step 1: Creating a Set </b>\n",
    "\n",
    "A set is created by placing all the elements inside **curly braces {}**, separated by commas, or by using the **set() function.**\n"
   ]
  },
  {
   "cell_type": "code",
   "execution_count": 1,
   "metadata": {},
   "outputs": [
    {
     "name": "stdout",
     "output_type": "stream",
     "text": [
      "{1, 2, 3}\n",
      "{4, 5, 6}\n"
     ]
    }
   ],
   "source": [
    "# Create a set using curly braces\n",
    "my_set = {1, 2, 3}\n",
    "print(my_set)\n",
    "\n",
    "# Create a set from a list\n",
    "my_set_from_list = set([4, 5, 6])\n",
    "print(my_set_from_list)\n"
   ]
  },
  {
   "cell_type": "markdown",
   "metadata": {},
   "source": [
    "<b> Step 2: Adding Elements to a Set </b>\n",
    "\n",
    "You can add single elements to a set using the **add()** method.\n"
   ]
  },
  {
   "cell_type": "code",
   "execution_count": 2,
   "metadata": {},
   "outputs": [
    {
     "name": "stdout",
     "output_type": "stream",
     "text": [
      "{1, 2, 3, 4}\n"
     ]
    }
   ],
   "source": [
    "# Add an element to a set\n",
    "my_set.add(4)\n",
    "print(my_set)\n"
   ]
  },
  {
   "cell_type": "markdown",
   "metadata": {},
   "source": [
    "<b> Step 3: Updating a Set with Multiple Elements </b>\n",
    "\n",
    "To add multiple elements, use the **update()** method.\n"
   ]
  },
  {
   "cell_type": "code",
   "execution_count": 3,
   "metadata": {},
   "outputs": [
    {
     "name": "stdout",
     "output_type": "stream",
     "text": [
      "{1, 2, 3, 4, 5, 6, 7}\n"
     ]
    }
   ],
   "source": [
    "# Add multiple elements\n",
    "my_set.update([5, 6, 7])\n",
    "print(my_set)\n"
   ]
  },
  {
   "cell_type": "markdown",
   "metadata": {},
   "source": [
    "<b> Step 4: Removing Elements from a Set </b>\n",
    "\n",
    "You can remove elements from a set using the **remove() or discard()** method.\n"
   ]
  },
  {
   "cell_type": "code",
   "execution_count": 4,
   "metadata": {},
   "outputs": [
    {
     "name": "stdout",
     "output_type": "stream",
     "text": [
      "{1, 2, 3, 4, 5, 6}\n",
      "{1, 2, 3, 4, 5}\n"
     ]
    }
   ],
   "source": [
    "# Remove an element\n",
    "my_set.remove(7)\n",
    "print(my_set)\n",
    "\n",
    "# Discard an element\n",
    "my_set.discard(6)\n",
    "print(my_set)\n"
   ]
  },
  {
   "cell_type": "markdown",
   "metadata": {},
   "source": [
    "<b> Step 5: Checking if an Element Exists in a Set </b>\n",
    "\n",
    "You can check if an element is in a set.\n"
   ]
  },
  {
   "cell_type": "code",
   "execution_count": 5,
   "metadata": {},
   "outputs": [
    {
     "name": "stdout",
     "output_type": "stream",
     "text": [
      "True\n"
     ]
    }
   ],
   "source": [
    "# Check for existence\n",
    "print(5 in my_set)\n"
   ]
  },
  {
   "cell_type": "markdown",
   "metadata": {},
   "source": [
    "<b> Step 6: Iterating Through a Set </b>\n",
    "\n",
    "You can iterate through a set using a for loop.\n"
   ]
  },
  {
   "cell_type": "code",
   "execution_count": 6,
   "metadata": {},
   "outputs": [
    {
     "name": "stdout",
     "output_type": "stream",
     "text": [
      "1\n",
      "2\n",
      "3\n",
      "4\n",
      "5\n"
     ]
    }
   ],
   "source": [
    "# Iterate through a set\n",
    "for item in my_set:\n",
    "    print(item)\n"
   ]
  },
  {
   "cell_type": "markdown",
   "metadata": {},
   "source": [
    "<b> Step 7: Set Operations </b>\n",
    "\n",
    "Sets support mathematical operations like union, intersection, difference, and symmetric difference.\n"
   ]
  },
  {
   "cell_type": "code",
   "execution_count": 7,
   "metadata": {},
   "outputs": [
    {
     "name": "stdout",
     "output_type": "stream",
     "text": [
      "Union: {1, 2, 3, 4, 5}\n",
      "Intersection: {3}\n",
      "Difference: {1, 2}\n",
      "Symmetric Difference: {1, 2, 4, 5}\n"
     ]
    }
   ],
   "source": [
    "# Union\n",
    "set_a = {1, 2, 3}\n",
    "set_b = {3, 4, 5}\n",
    "print(\"Union:\", set_a.union(set_b))\n",
    "\n",
    "# Intersection\n",
    "print(\"Intersection:\", set_a.intersection(set_b))\n",
    "\n",
    "# Difference\n",
    "print(\"Difference:\", set_a.difference(set_b))\n",
    "\n",
    "# Symmetric Difference\n",
    "print(\"Symmetric Difference:\", set_a.symmetric_difference(set_b))\n"
   ]
  },
  {
   "cell_type": "markdown",
   "metadata": {},
   "source": [
    "<b> All in one </b>\n"
   ]
  },
  {
   "cell_type": "code",
   "execution_count": 8,
   "metadata": {},
   "outputs": [],
   "source": [
    "# Step 1: Creating sets\n",
    "my_set = {1, 2, 3}\n",
    "my_set_from_list = set([4, 5, 6])\n",
    "\n",
    "# Step 2: Adding elements to a set\n",
    "my_set.add(4)\n",
    "\n",
    "# Step 3: Updating a set with multiple elements\n",
    "my_set.update([5, 6, 7])\n",
    "\n",
    "# Step 4: Removing elements from a set\n",
    "my_set.remove(7)  # If element does not exist, this will raise a KeyError\n",
    "my_set.discard(6)  # If element does not exist, this does nothing\n",
    "\n",
    "# Step 5: Checking if an element exists in a set\n",
    "element_exists = 5 in my_set\n",
    "\n",
    "# Step 6: Set operations\n",
    "set_a = {1, 2, 3}\n",
    "set_b = {3, 4, 5}\n",
    "union = set_a.union(set_b)\n",
    "intersection = set_a.intersection(set_b)\n",
    "difference = set_a.difference(set_b)\n",
    "symmetric_difference = set_a.symmetric_difference(set_b)\n",
    "\n",
    "# Step 7: Iterating through a set\n",
    "set_elements = []\n",
    "for item in my_set:\n",
    "    set_elements.append(item)\n",
    "\n",
    "# Results\n",
    "created_sets: {'my_set': {1, 2, 3, 4, 5}, 'my_set_from_list': {4, 5, 6}}\n",
    "after_adding: {1, 2, 3, 4, 5}\n",
    "element_exists: True\n",
    "set_operations: {'union': {1, 2, 3, 4, 5}, 'intersection': {3}, 'difference': {1, 2}, 'symmetric_difference': {1, 2, 4, 5}}\n",
    "iterated_elements: [1, 2, 3, 4, 5]\n"
   ]
  },
  {
   "cell_type": "markdown",
   "metadata": {},
   "source": [
    "<b> Important Notes: </b>\n",
    "\n",
    "Sets are unordered, so they do not record element position or order of insertion.\n",
    "\n",
    "Sets do not support indexing, slicing, or other sequence-like behavior.\n",
    "\n",
    "Duplicate elements are automatically removed.\n",
    "\n",
    "The remove() method will raise a KeyError if the element is not found in the set, whereas discard() will not.\n"
   ]
  }
 ],
 "metadata": {
  "kernelspec": {
   "display_name": "Python 3",
   "language": "python",
   "name": "python3"
  },
  "language_info": {
   "codemirror_mode": {
    "name": "ipython",
    "version": 3
   },
   "file_extension": ".py",
   "mimetype": "text/x-python",
   "name": "python",
   "nbconvert_exporter": "python",
   "pygments_lexer": "ipython3",
   "version": "3.10.0"
  }
 },
 "nbformat": 4,
 "nbformat_minor": 2
}

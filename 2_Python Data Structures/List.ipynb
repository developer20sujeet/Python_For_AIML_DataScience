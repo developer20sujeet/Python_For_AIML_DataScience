{
 "cells": [
  {
   "cell_type": "markdown",
   "metadata": {},
   "source": [
    "<h3> 1. Introduction to List </h3>\n"
   ]
  },
  {
   "cell_type": "markdown",
   "metadata": {},
   "source": [
    "<b> Step 1: Creating a List </b>\n",
    "\n",
    "A list in Python is created by placing all the items (elements) inside square **brackets []**, separated by commas.\n"
   ]
  },
  {
   "cell_type": "code",
   "execution_count": 14,
   "metadata": {},
   "outputs": [
    {
     "name": "stdout",
     "output_type": "stream",
     "text": [
      "[1, 2, 3, 4, 5]\n",
      "['apple', 'banana', 'cherry']\n",
      "[1, 'apple', 3.14, True]\n",
      "[[1, 2, 3], [4, 5, 6], ['seven', 'eight', 'nine']]\n"
     ]
    }
   ],
   "source": [
    "# Create a list of integers\n",
    "numbers = [1, 2, 3, 4, 5]\n",
    "print(numbers)\n",
    "\n",
    "\n",
    "\n",
    "# Create a list of strings\n",
    "fruits = [\"apple\", \"banana\", \"cherry\"]\n",
    "print(fruits)\n",
    "\n",
    "\n",
    "\n",
    "# Create a list with multiple data types\n",
    "mixed_list = [1, \"apple\", 3.14, True]\n",
    "print(mixed_list)\n",
    "\n",
    "\n",
    "# Create a nested list\n",
    "nested_list = [[1, 2, 3], [4, 5, 6], [\"seven\", \"eight\", \"nine\"]]\n",
    "print(nested_list)\n"
   ]
  },
  {
   "cell_type": "markdown",
   "metadata": {},
   "source": [
    "<b> Step 2: Accessing Elements in a List </b>\n",
    "\n",
    "You can access elements in a list by referring to the **index number**.\n",
    "Note that Python **indexes start at 0.**\n"
   ]
  },
  {
   "cell_type": "code",
   "execution_count": 16,
   "metadata": {},
   "outputs": [
    {
     "name": "stdout",
     "output_type": "stream",
     "text": [
      "1\n",
      "cherry\n",
      "cherry\n",
      "1\n",
      "nine\n"
     ]
    }
   ],
   "source": [
    "# Access the first element\n",
    "print(numbers[0])\n",
    "\n",
    "# Access the last element\n",
    "print(fruits[-1])\n",
    "# or Access the last element\n",
    "print(fruits[2])\n",
    "\n",
    "\n",
    "## =======  nested_list ====================================================================\n",
    "\n",
    "# Accessing the first item of the first nested list\n",
    "print(nested_list[0][0])\n",
    "\n",
    "# Accessing the third item of the third nested list\n",
    "print(nested_list[2][2])\n",
    "\n",
    "## =======  nested_list ====================================================================\n"
   ]
  },
  {
   "cell_type": "markdown",
   "metadata": {},
   "source": [
    "<b> Step 3: Adding Elements to a List </b>\n",
    "\n",
    "You can add elements to a list by using the **append() method** to add an item to the end of the list.\n"
   ]
  },
  {
   "cell_type": "code",
   "execution_count": 5,
   "metadata": {},
   "outputs": [
    {
     "name": "stdout",
     "output_type": "stream",
     "text": [
      "[1, 2, 3, 4, 5, 6]\n"
     ]
    }
   ],
   "source": [
    "# Add an element to the numbers list\n",
    "numbers.append(6)\n",
    "print(numbers)\n"
   ]
  },
  {
   "cell_type": "markdown",
   "metadata": {},
   "source": [
    "<b>Step 4: Modifying Elements in a List </b>\n",
    "\n",
    "Lists are mutable, which means you can change their elements.\n"
   ]
  },
  {
   "cell_type": "code",
   "execution_count": 17,
   "metadata": {},
   "outputs": [
    {
     "name": "stdout",
     "output_type": "stream",
     "text": [
      "[0, 2, 3, 4, 5]\n",
      "[[1, 'two', 3], [4, 5, 6], ['seven', 'eight', 'nine']]\n"
     ]
    }
   ],
   "source": [
    "# Change the first element\n",
    "numbers[0] = 0\n",
    "print(numbers)\n",
    "\n",
    "\n",
    "\n",
    "## =======  nested_list ====================================================================\n",
    "\n",
    "# Modify the second item of the first nested list\n",
    "nested_list[0][1] = 'two'\n",
    "print(nested_list)\n",
    "\n",
    "## =======  nested_list ====================================================================\n",
    "\n"
   ]
  },
  {
   "cell_type": "markdown",
   "metadata": {},
   "source": [
    "<b> Step 5: Removing Elements from a List </b>\n",
    "\n",
    "You can remove elements from a list using the remove() method or del statement.\n"
   ]
  },
  {
   "cell_type": "code",
   "execution_count": 7,
   "metadata": {},
   "outputs": [
    {
     "name": "stdout",
     "output_type": "stream",
     "text": [
      "['apple', 'cherry']\n",
      "[2, 3, 4, 5, 6]\n"
     ]
    }
   ],
   "source": [
    "# Remove an element by value\n",
    "fruits.remove(\"banana\")\n",
    "print(fruits)\n",
    "\n",
    "# Remove an element by index\n",
    "del numbers[0]\n",
    "print(numbers)\n"
   ]
  },
  {
   "cell_type": "markdown",
   "metadata": {},
   "source": [
    "<b>Step 6: List Slicing </b>\n",
    "\n",
    "The syntax for list slicing is **[start:stop:step]**,\n",
    "\n",
    "--where start is the index where the slice starts (inclusive),\n",
    "\n",
    "--stop is the index where the slice ends (exclusive), and step is the interval of the slicing.\n"
   ]
  },
  {
   "cell_type": "code",
   "execution_count": 22,
   "metadata": {},
   "outputs": [
    {
     "name": "stdout",
     "output_type": "stream",
     "text": [
      "[0, 1, 2]\n",
      "['banana', 'cherry']\n",
      "[0, 1, 2, 3, 4, 5, 6, 7, 8, 9]\n",
      "Numbers from start to 3rd index: [0, 1, 2]\n",
      "Numbers from 1st to 3rd index: [1, 2]\n",
      "Last two numbers: [8, 9]\n",
      "From second last to index 1 (empty): []\n",
      "From index -4 to index -1 (excluding -1): [6, 7, 8]\n",
      "Every second number from the list: [0, 2, 4, 6, 8]\n",
      "Reversed list: [9, 8, 7, 6, 5, 4, 3, 2, 1, 0]\n"
     ]
    }
   ],
   "source": [
    "# Get the first three elements - 0 , 1 , 2 \n",
    "print(numbers[:3])\n",
    "\n",
    "# Get the last two elements\n",
    "print(fruits[-2:])\n",
    "\n",
    "\n",
    "# Let's create a list of numbers for demonstration\n",
    "numbers = [0, 1, 2, 3, 4, 5, 6, 7, 8, 9]\n",
    "print (numbers)\n",
    "\n",
    "# Slice from start to 3rd index\n",
    "print(\"Numbers from start to 3rd index:\", numbers[:3])\n",
    "\n",
    "# Slice from index 1 to 3\n",
    "print(\"Numbers from 1st to 3rd index:\", numbers[1:3])\n",
    "\n",
    "# Slice from index -2 (second last) to the end\n",
    "print(\"Last two numbers:\", numbers[-2:])\n",
    "\n",
    "# Slice from index -2 to index 1 (will not return anything because the indices are in reverse order)\n",
    "print(\"From second last to index 1 (empty):\", numbers[-2:1])\n",
    "\n",
    "# Slice with negative start and negative stop\n",
    "print(\"From index -4 to index -1 (excluding -1):\", numbers[-4:-1])\n",
    "\n",
    "# Slice with step\n",
    "print(\"Every second number from the list:\", numbers[::2])\n",
    "\n",
    "# Reverse the list using slicing\n",
    "print(\"Reversed list:\", numbers[::-1])\n",
    "\n",
    "\n"
   ]
  },
  {
   "cell_type": "markdown",
   "metadata": {},
   "source": [
    "<b> Step 8: Iterating Through a List </b>\n",
    "\n",
    "You can iterate through the list items by using a for loop.\n"
   ]
  },
  {
   "cell_type": "code",
   "execution_count": 19,
   "metadata": {},
   "outputs": [
    {
     "name": "stdout",
     "output_type": "stream",
     "text": [
      "apple\n",
      "banana\n",
      "cherry\n",
      "1\n",
      "two\n",
      "3\n",
      "4\n",
      "5\n",
      "6\n",
      "seven\n",
      "eight\n",
      "nine\n"
     ]
    }
   ],
   "source": [
    "# Print each fruit\n",
    "for fruit in fruits:\n",
    "    print(fruit)\n",
    "\n",
    "\n",
    "## =======  nested_list ====================================================================\n",
    "\n",
    "\n",
    "# Iterate through each list in the nested list\n",
    "for sublist in nested_list:\n",
    "    \n",
    "    # Iterate through each item in the sublist\n",
    "    for item in sublist:\n",
    "        print(item)\n",
    "\n",
    "## =======  nested_list ====================================================================\n"
   ]
  },
  {
   "cell_type": "markdown",
   "metadata": {},
   "source": [
    "<b> Step 7: List Comprehension </b>\n",
    "\n",
    "List comprehensions provide a concise way to create lists.\n"
   ]
  },
  {
   "cell_type": "code",
   "execution_count": 10,
   "metadata": {},
   "outputs": [
    {
     "name": "stdout",
     "output_type": "stream",
     "text": [
      "[4, 16, 36]\n"
     ]
    }
   ],
   "source": [
    "# Create a list of squares for even numbers\n",
    "squares = [x**2 for x in numbers if x % 2 == 0]\n",
    "print(squares)\n"
   ]
  },
  {
   "cell_type": "markdown",
   "metadata": {},
   "source": [
    "<b> All in one code </b>\n"
   ]
  },
  {
   "cell_type": "code",
   "execution_count": 20,
   "metadata": {},
   "outputs": [
    {
     "name": "stdout",
     "output_type": "stream",
     "text": [
      "Mixed List: [1, 'apple', 3.14, True]\n",
      "Nested List: [[1, 2, 3], [4, 5, 6], ['seven', 'eight', 'nine']]\n",
      "First item of the first nested list: 1\n",
      "Third item of the third nested list: nine\n",
      "Modified Nested List: [[1, 'two', 3], [4, 5, 6], ['seven', 'eight', 'nine']]\n",
      "Iterating through the nested list:\n",
      "1\n",
      "two\n",
      "3\n",
      "4\n",
      "5\n",
      "6\n",
      "seven\n",
      "eight\n",
      "nine\n",
      "Mixed List after adding an item: [1, 'apple', 3.14, True, 'new item']\n",
      "Mixed List after removing an item: ['apple', 3.14, True, 'new item']\n",
      "Sliced elements from mixed list: [3.14, True]\n",
      "List of squares of even numbers from 0 to 9: [0, 4, 16, 36, 64]\n",
      "Item in mixed list: apple\n",
      "Item in mixed list: 3.14\n",
      "Item in mixed list: True\n",
      "Item in mixed list: new item\n"
     ]
    }
   ],
   "source": [
    "# Step 1: Create a list with multiple data types\n",
    "mixed_list = [1, \"apple\", 3.14, True]\n",
    "print(\"Mixed List:\", mixed_list)\n",
    "\n",
    "# Step 2: Create a nested list (a list of lists)\n",
    "nested_list = [[1, 2, 3], [4, 5, 6], [\"seven\", \"eight\", \"nine\"]]\n",
    "print(\"Nested List:\", nested_list)\n",
    "\n",
    "# Step 3: Access elements in a nested list\n",
    "print(\"First item of the first nested list:\", nested_list[0][0])\n",
    "print(\"Third item of the third nested list:\", nested_list[2][2])\n",
    "\n",
    "# Step 4: Modify elements in a nested list\n",
    "nested_list[0][1] = 'two'\n",
    "print(\"Modified Nested List:\", nested_list)\n",
    "\n",
    "# Step 5: Iterate through a nested list\n",
    "print(\"Iterating through the nested list:\")\n",
    "for sublist in nested_list:\n",
    "    for item in sublist:\n",
    "        print(item)\n",
    "\n",
    "# Additional operations\n",
    "# Adding elements\n",
    "mixed_list.append('new item')\n",
    "print(\"Mixed List after adding an item:\", mixed_list)\n",
    "\n",
    "# Removing elements\n",
    "mixed_list.remove(True)\n",
    "print(\"Mixed List after removing an item:\", mixed_list)\n",
    "\n",
    "# List slicing\n",
    "print(\"Sliced elements from mixed list:\", mixed_list[1:3])\n",
    "\n",
    "# List comprehension\n",
    "squares = [x**2 for x in range(10) if x % 2 == 0]\n",
    "print(\"List of squares of even numbers from 0 to 9:\", squares)\n",
    "\n",
    "# Iterating through mixed_list\n",
    "for item in mixed_list:\n",
    "    print(\"Item in mixed list:\", item)\n"
   ]
  }
 ],
 "metadata": {
  "kernelspec": {
   "display_name": "Python 3",
   "language": "python",
   "name": "python3"
  },
  "language_info": {
   "codemirror_mode": {
    "name": "ipython",
    "version": 3
   },
   "file_extension": ".py",
   "mimetype": "text/x-python",
   "name": "python",
   "nbconvert_exporter": "python",
   "pygments_lexer": "ipython3",
   "version": "3.10.0"
  }
 },
 "nbformat": 4,
 "nbformat_minor": 2
}

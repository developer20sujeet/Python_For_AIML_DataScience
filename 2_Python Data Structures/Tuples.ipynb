{
 "cells": [
  {
   "cell_type": "markdown",
   "metadata": {},
   "source": [
    "<h3> Tuples Overview </h3>\n",
    "\n",
    "Tuples are very similar to lists, but they are **immutable**, meaning once they are created, their elements cannot be changed.\n"
   ]
  },
  {
   "cell_type": "markdown",
   "metadata": {},
   "source": [
    "<b> Step 1: Creating a Tuple </b>\n",
    "\n",
    "A tuple is created by placing all the items (elements) inside **parentheses ()**, separated by commas.\n",
    "\n",
    "Alternatively, you can omit the parentheses, and Python will understand it as a tuple by the presence of commas.\n"
   ]
  },
  {
   "cell_type": "code",
   "execution_count": 1,
   "metadata": {},
   "outputs": [
    {
     "name": "stdout",
     "output_type": "stream",
     "text": [
      "(1, 'Hello', 3.14, True)\n",
      "(1, 'Hello', 3.14, True)\n"
     ]
    }
   ],
   "source": [
    "# Create a tuple with different data types\n",
    "my_tuple = (1, \"Hello\", 3.14, True)\n",
    "print(my_tuple)\n",
    "\n",
    "\n",
    "# Parentheses are optional\n",
    "my_tuple_without_parentheses = 1, \"Hello\", 3.14, True\n",
    "print(my_tuple_without_parentheses)\n"
   ]
  },
  {
   "cell_type": "markdown",
   "metadata": {},
   "source": [
    "<b> Step 2: Tuple with One Element (Singleton)</b>\n",
    "\n",
    "For a tuple with a single item, you need to include a trailing comma.\n"
   ]
  },
  {
   "cell_type": "code",
   "execution_count": 2,
   "metadata": {},
   "outputs": [
    {
     "name": "stdout",
     "output_type": "stream",
     "text": [
      "(5,)\n"
     ]
    }
   ],
   "source": [
    "# Create a tuple with one element\n",
    "singleton_tuple = (5,)\n",
    "print(singleton_tuple)\n"
   ]
  },
  {
   "cell_type": "markdown",
   "metadata": {},
   "source": [
    "<b> Step 3: Accessing Elements in a Tuple </b>\n",
    "\n",
    "Access by index numbers inside square brackets.\n"
   ]
  },
  {
   "cell_type": "code",
   "execution_count": 3,
   "metadata": {},
   "outputs": [
    {
     "name": "stdout",
     "output_type": "stream",
     "text": [
      "Hello\n",
      "True\n"
     ]
    }
   ],
   "source": [
    "# Access the second element of the tuple\n",
    "print(my_tuple[1])\n",
    "\n",
    "\n",
    "# Access the last element of the tuple\n",
    "print(my_tuple[-1])\n"
   ]
  },
  {
   "cell_type": "markdown",
   "metadata": {},
   "source": [
    "<b> Step 4: Delete Elements in a Tuple </b>\n",
    "\n",
    "**Since tuples are immutable**, you cannot delete individual elements from a tuple directly.\n",
    "\n",
    "However, you can create a new tuple without the elements you wish to 'delete'\n"
   ]
  },
  {
   "cell_type": "code",
   "execution_count": 6,
   "metadata": {},
   "outputs": [
    {
     "name": "stdout",
     "output_type": "stream",
     "text": [
      "Tuple after removing 'Hello': (1, 3.14, True)\n",
      "Tuple after removing 'Hello' (from list): (1, 3.14, True)\n"
     ]
    }
   ],
   "source": [
    "# Original tuple\n",
    "my_tuple = (1, \"Hello\", 3.14, True)\n",
    "\n",
    "# Let's say we want to remove the element \"Hello\"\n",
    "\n",
    "\n",
    "# Method 1: Slicing around the element to remove and concatenating\n",
    "new_tuple = my_tuple[:1] + my_tuple[2:]\n",
    "print(\"Tuple after removing 'Hello':\", new_tuple)\n",
    "\n",
    "\n",
    "# Method 2: Convert to a list, remove the element, and convert back to a tuple\n",
    "temp_list = list(my_tuple)\n",
    "temp_list.remove(\"Hello\")\n",
    "\n",
    "new_tuple_from_list = tuple(temp_list)\n",
    "\n",
    "print(\"Tuple after removing 'Hello' (from list):\", new_tuple_from_list)"
   ]
  },
  {
   "cell_type": "markdown",
   "metadata": {},
   "source": [
    "<b> Step 5: Slicing Tuples </b>\n",
    "\n",
    "You can slice a tuple to create a new tuple with a subset of the elements, just like with lists.\n"
   ]
  },
  {
   "cell_type": "code",
   "execution_count": 8,
   "metadata": {},
   "outputs": [
    {
     "name": "stdout",
     "output_type": "stream",
     "text": [
      "(1, 'Hello')\n"
     ]
    }
   ],
   "source": [
    "# Original tuple\n",
    "my_tuple = (1, \"Hello\", 3.14, True)\n",
    "\n",
    "# Slice from the start to the second index (inclusive)\n",
    "print(my_tuple[:2])"
   ]
  },
  {
   "cell_type": "markdown",
   "metadata": {},
   "source": [
    "<b> Step 6 -collections.namedtuple </b>\n",
    "\n",
    "allow retrieval of elements by key or field name.\n"
   ]
  },
  {
   "cell_type": "code",
   "execution_count": 9,
   "metadata": {},
   "outputs": [
    {
     "name": "stdout",
     "output_type": "stream",
     "text": [
      "Apple\n",
      "Red\n"
     ]
    }
   ],
   "source": [
    "from collections import namedtuple\n",
    "\n",
    "# Create a namedtuple type called 'Fruit'\n",
    "Fruit = namedtuple('Fruit', ['name', 'color'])\n",
    "\n",
    "# Create a new 'Fruit' object\n",
    "my_fruit = Fruit(name='Apple', color='Red')\n",
    "\n",
    "# Access elements by name\n",
    "print(my_fruit.name)  # Outputs: Apple\n",
    "print(my_fruit.color)  # Outputs: Red\n"
   ]
  },
  {
   "cell_type": "markdown",
   "metadata": {},
   "source": [
    "<b> Step 6 -Tuples with List </b>\n",
    "\n",
    "you can certainly create tuples that contain lists as their elements\n",
    "\n",
    "This is often done when **you need a tuple to store collections of items that may change over time **since lists are mutable.\n"
   ]
  },
  {
   "cell_type": "code",
   "execution_count": 10,
   "metadata": {},
   "outputs": [
    {
     "name": "stdout",
     "output_type": "stream",
     "text": [
      "Tuple with lists: ([1, 2, 3], ['apple', 'banana', 'cherry'])\n",
      "Access an element in the first list of the tuple: 2\n",
      "Modified tuple with lists: ([1, 'two', 3], ['apple', 'banana', 'cherry'])\n"
     ]
    }
   ],
   "source": [
    "# Create a tuple with lists as elements\n",
    "tuple_with_lists = ([1, 2, 3], ['apple', 'banana', 'cherry'])\n",
    "\n",
    "# Display the tuple\n",
    "print(\"Tuple with lists:\", tuple_with_lists)\n",
    "\n",
    "# Accessing an element in the list within the tuple\n",
    "print(\"Access an element in the first list of the tuple:\", tuple_with_lists[0][1])  # Outputs: 2\n",
    "\n",
    "# Modifying an element in the list within the tuple\n",
    "tuple_with_lists[0][1] = 'two'\n",
    "print(\"Modified tuple with lists:\", tuple_with_lists)\n",
    "\n",
    "# You cannot modify the tuple itself (e.g., replacing a list with another list)\n",
    "# But you can modify the elements within the list since the list itself is mutable\n"
   ]
  },
  {
   "cell_type": "markdown",
   "metadata": {},
   "source": [
    "<b> All in one </b>\n"
   ]
  },
  {
   "cell_type": "code",
   "execution_count": 11,
   "metadata": {},
   "outputs": [
    {
     "data": {
      "text/plain": [
       "{'my_tuple': (1, 'Hello', 3.14, True),\n",
       " 'my_tuple_without_parentheses': (1, 'Hello', 3.14, True),\n",
       " 'singleton_tuple': (5,),\n",
       " 'second_element': 'Hello',\n",
       " 'last_element': True,\n",
       " 'slice_from_start_to_second': (1, 'Hello', 3.14),\n",
       " 'slice_from_third_to_end': (3.14, True),\n",
       " 'my_fruit': Fruit(name='Apple', color='Red'),\n",
       " 'fruit_name': 'Apple',\n",
       " 'fruit_color': 'Red'}"
      ]
     },
     "execution_count": 11,
     "metadata": {},
     "output_type": "execute_result"
    }
   ],
   "source": [
    "from collections import namedtuple\n",
    "\n",
    "# Step 1: Creating tuples\n",
    "my_tuple = (1, \"Hello\", 3.14, True)\n",
    "my_tuple_without_parentheses = 1, \"Hello\", 3.14, True\n",
    "\n",
    "# Step 2: Tuple with one element\n",
    "singleton_tuple = (5,)\n",
    "\n",
    "# Step 3: Accessing elements in a tuple by index\n",
    "second_element = my_tuple[1]\n",
    "last_element = my_tuple[-1]\n",
    "\n",
    "# Step 4: Slicing tuples\n",
    "slice_from_start_to_second = my_tuple[:3]\n",
    "slice_from_third_to_end = my_tuple[2:]\n",
    "\n",
    "# Step 5: Namedtuple for accessing by name\n",
    "# Create a namedtuple type called 'Fruit'\n",
    "Fruit = namedtuple('Fruit', ['name', 'color'])\n",
    "# Create a new 'Fruit' object\n",
    "my_fruit = Fruit(name='Apple', color='Red')\n",
    "# Access elements by name\n",
    "fruit_name = my_fruit.name\n",
    "fruit_color = my_fruit.color\n",
    "\n",
    "# Display all the created tuples and sliced results\n",
    "consolidated_results = {\n",
    "    \"my_tuple\": my_tuple,\n",
    "    \"my_tuple_without_parentheses\": my_tuple_without_parentheses,\n",
    "    \"singleton_tuple\": singleton_tuple,\n",
    "    \"second_element\": second_element,\n",
    "    \"last_element\": last_element,\n",
    "    \"slice_from_start_to_second\": slice_from_start_to_second,\n",
    "    \"slice_from_third_to_end\": slice_from_third_to_end,\n",
    "    \"my_fruit\": my_fruit,\n",
    "    \"fruit_name\": fruit_name,\n",
    "    \"fruit_color\": fruit_color\n",
    "}\n",
    "\n",
    "consolidated_results\n"
   ]
  }
 ],
 "metadata": {
  "kernelspec": {
   "display_name": "Python 3",
   "language": "python",
   "name": "python3"
  },
  "language_info": {
   "codemirror_mode": {
    "name": "ipython",
    "version": 3
   },
   "file_extension": ".py",
   "mimetype": "text/x-python",
   "name": "python",
   "nbconvert_exporter": "python",
   "pygments_lexer": "ipython3",
   "version": "3.10.0"
  }
 },
 "nbformat": 4,
 "nbformat_minor": 2
}

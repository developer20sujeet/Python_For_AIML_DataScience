{
 "cells": [
  {
   "cell_type": "markdown",
   "metadata": {},
   "source": [
    "<h3>Dictionaries Overview </h3>\n",
    "\n",
    "Dictionaries are used for **storing data in key-value pairs**\n"
   ]
  },
  {
   "cell_type": "markdown",
   "metadata": {},
   "source": [
    "<b> Step 1: Creating a Dictionary </b>\n",
    "\n",
    "A dictionary is created with **curly braces {}** containing keys and values.\n"
   ]
  },
  {
   "cell_type": "code",
   "execution_count": 2,
   "metadata": {},
   "outputs": [
    {
     "name": "stdout",
     "output_type": "stream",
     "text": [
      "{'name': 'John', 'age': 30, 'city': 'New York'}\n"
     ]
    }
   ],
   "source": [
    "# Create a dictionary\n",
    "my_dict = {\"name\": \"John\", \n",
    "            \"age\":  30, \n",
    "            \"city\": \"New York\"\n",
    "          }\n",
    "print(my_dict)"
   ]
  },
  {
   "cell_type": "markdown",
   "metadata": {},
   "source": [
    "<b> Step 2: Accessing Dictionary Values </b>\n",
    "\n",
    "You can access the value associated with a specific key **using square brackets [].**\n"
   ]
  },
  {
   "cell_type": "code",
   "execution_count": 5,
   "metadata": {},
   "outputs": [
    {
     "name": "stdout",
     "output_type": "stream",
     "text": [
      "John\n"
     ]
    }
   ],
   "source": [
    "# Create a dictionary\n",
    "my_dict = {\"name\": \"John\", \n",
    "            \"age\":  30, \n",
    "            \"city\": \"New York\"\n",
    "          }\n",
    "\n",
    "\n",
    "\n",
    "# Access the value of the key 'name'\n",
    "print(my_dict[\"name\"])\n"
   ]
  },
  {
   "cell_type": "markdown",
   "metadata": {},
   "source": [
    "<b> Step 3: Modifying Dictionary Values </b>\n",
    "\n",
    "You can change the value of a specific item by referring to its key name.\n"
   ]
  },
  {
   "cell_type": "code",
   "execution_count": 6,
   "metadata": {},
   "outputs": [
    {
     "name": "stdout",
     "output_type": "stream",
     "text": [
      "{'name': 'John', 'age': 35, 'city': 'New York'}\n"
     ]
    }
   ],
   "source": [
    "# Modify the value associated with the key 'age'\n",
    "my_dict[\"age\"] = 35\n",
    "print(my_dict)\n"
   ]
  },
  {
   "cell_type": "markdown",
   "metadata": {},
   "source": [
    "<b> Step 4: Adding New Key-Value Pairs </b>\n",
    "\n",
    "You can add new key-value pairs to the dictionary.\n"
   ]
  },
  {
   "cell_type": "code",
   "execution_count": 7,
   "metadata": {},
   "outputs": [
    {
     "name": "stdout",
     "output_type": "stream",
     "text": [
      "{'name': 'John', 'age': 35, 'city': 'New York', 'email': 'john@example.com'}\n"
     ]
    }
   ],
   "source": [
    "# Add a new key-value pair\n",
    "my_dict[\"email\"] = \"john@example.com\"\n",
    "print(my_dict)\n"
   ]
  },
  {
   "cell_type": "markdown",
   "metadata": {},
   "source": [
    "<b> Step 5: Removing Key-Value Pairs </b>\n",
    "\n",
    "Use **del** to remove a key-value pair or **pop()** to remove it and return the value.\n"
   ]
  },
  {
   "cell_type": "code",
   "execution_count": 11,
   "metadata": {},
   "outputs": [
    {
     "name": "stdout",
     "output_type": "stream",
     "text": [
      "{'name': 'John', 'age': 30}\n",
      "Popped age: 30\n",
      "{'name': 'John'}\n"
     ]
    }
   ],
   "source": [
    "# Create a dictionary\n",
    "my_dict = {\"name\": \"John\", \n",
    "            \"age\":  30, \n",
    "            \"city\": \"New York\"\n",
    "          }\n",
    "\n",
    "\n",
    "# Remove a key-value pair\n",
    "del my_dict[\"city\"]\n",
    "print(my_dict)\n",
    "\n",
    "# Pop a value\n",
    "age = my_dict.pop(\"age\")\n",
    "\n",
    "print(\"Popped age:\", age)\n",
    "print(my_dict)"
   ]
  },
  {
   "cell_type": "markdown",
   "metadata": {},
   "source": [
    "<b> Step 6: Checking if a Key Exists </b>\n"
   ]
  },
  {
   "cell_type": "code",
   "execution_count": 12,
   "metadata": {},
   "outputs": [
    {
     "name": "stdout",
     "output_type": "stream",
     "text": [
      "True\n"
     ]
    }
   ],
   "source": [
    "# Check if 'name' is in the dictionary\n",
    "print(\"name\" in my_dict)\n"
   ]
  },
  {
   "cell_type": "markdown",
   "metadata": {},
   "source": [
    "<b> Step 7: Iterating Through a Dictionary </b>\n"
   ]
  },
  {
   "cell_type": "code",
   "execution_count": 13,
   "metadata": {},
   "outputs": [
    {
     "name": "stdout",
     "output_type": "stream",
     "text": [
      "name\n",
      "John\n",
      "name John\n"
     ]
    }
   ],
   "source": [
    "# Print all keys\n",
    "for key in my_dict:\n",
    "    print(key)\n",
    "\n",
    "# Print all values\n",
    "for value in my_dict.values():\n",
    "    print(value)\n",
    "\n",
    "# Print all key-value pairs\n",
    "for key, value in my_dict.items():\n",
    "    print(key, value)\n"
   ]
  },
  {
   "cell_type": "markdown",
   "metadata": {},
   "source": [
    "<b> Step 9: Nested Dictionaries </b>\n"
   ]
  },
  {
   "cell_type": "code",
   "execution_count": 14,
   "metadata": {},
   "outputs": [
    {
     "name": "stdout",
     "output_type": "stream",
     "text": [
      "{'dict1': {'key1': 1}, 'dict2': {'key2': 2}}\n"
     ]
    }
   ],
   "source": [
    "# Create a nested dictionary\n",
    "nested_dict = {\"dict1\": {\"key1\": 1}, \"dict2\": {\"key2\": 2}}\n",
    "print(nested_dict)\n"
   ]
  },
  {
   "cell_type": "markdown",
   "metadata": {},
   "source": [
    "<h3> Important Notes: </h3>\n",
    "\n",
    "Dictionary keys must be immutable (e.g., strings, numbers, tuples).\n",
    "\n",
    "Dictionary values can be of any data type.\n",
    "\n",
    "Dictionaries are unordered before Python 3.7. In Python 3.7 and above, dictionaries maintain the order of insertion.\n",
    "\n",
    "Accessing a non-existent key will raise a KeyError.\n",
    "\n",
    "Use get() to access a key's value without risking a KeyError.\n"
   ]
  }
 ],
 "metadata": {
  "kernelspec": {
   "display_name": "Python 3",
   "language": "python",
   "name": "python3"
  },
  "language_info": {
   "codemirror_mode": {
    "name": "ipython",
    "version": 3
   },
   "file_extension": ".py",
   "mimetype": "text/x-python",
   "name": "python",
   "nbconvert_exporter": "python",
   "pygments_lexer": "ipython3",
   "version": "3.10.0"
  }
 },
 "nbformat": 4,
 "nbformat_minor": 2
}
